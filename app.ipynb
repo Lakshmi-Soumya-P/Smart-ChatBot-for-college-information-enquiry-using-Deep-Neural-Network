{
 "cells": [
  {
   "cell_type": "code",
   "execution_count": null,
   "id": "d356d7bf",
   "metadata": {},
   "outputs": [
    {
     "name": "stdout",
     "output_type": "stream",
     "text": [
      " * Serving Flask app '__main__' (lazy loading)\n",
      " * Environment: production\n",
      "\u001b[31m   WARNING: This is a development server. Do not use it in a production deployment.\u001b[0m\n",
      "\u001b[2m   Use a production WSGI server instead.\u001b[0m\n",
      " * Debug mode: on\n"
     ]
    },
    {
     "name": "stderr",
     "output_type": "stream",
     "text": [
      " * Running on http://127.0.0.1:5000/ (Press CTRL+C to quit)\n",
      "127.0.0.1 - - [17/Apr/2023 10:42:46] \"OPTIONS /predict HTTP/1.1\" 200 -\n",
      "127.0.0.1 - - [17/Apr/2023 10:42:46] \"POST /predict HTTP/1.1\" 200 -\n",
      "127.0.0.1 - - [17/Apr/2023 10:42:58] \"OPTIONS /predict HTTP/1.1\" 200 -\n",
      "127.0.0.1 - - [17/Apr/2023 10:42:58] \"POST /predict HTTP/1.1\" 200 -\n",
      "127.0.0.1 - - [17/Apr/2023 11:13:31] \"OPTIONS /predict HTTP/1.1\" 200 -\n",
      "127.0.0.1 - - [17/Apr/2023 11:13:31] \"POST /predict HTTP/1.1\" 200 -\n",
      "127.0.0.1 - - [17/Apr/2023 11:16:57] \"OPTIONS /predict HTTP/1.1\" 200 -\n",
      "127.0.0.1 - - [17/Apr/2023 11:16:57] \"POST /predict HTTP/1.1\" 200 -\n",
      "127.0.0.1 - - [17/Apr/2023 11:17:27] \"OPTIONS /predict HTTP/1.1\" 200 -\n",
      "127.0.0.1 - - [17/Apr/2023 11:17:27] \"POST /predict HTTP/1.1\" 200 -\n",
      "127.0.0.1 - - [17/Apr/2023 11:17:35] \"OPTIONS /predict HTTP/1.1\" 200 -\n",
      "127.0.0.1 - - [17/Apr/2023 11:17:35] \"POST /predict HTTP/1.1\" 200 -\n",
      "127.0.0.1 - - [17/Apr/2023 11:23:37] \"OPTIONS /predict HTTP/1.1\" 200 -\n",
      "127.0.0.1 - - [17/Apr/2023 11:23:37] \"POST /predict HTTP/1.1\" 200 -\n",
      "127.0.0.1 - - [17/Apr/2023 11:23:57] \"OPTIONS /predict HTTP/1.1\" 200 -\n",
      "127.0.0.1 - - [17/Apr/2023 11:23:57] \"POST /predict HTTP/1.1\" 200 -\n",
      "127.0.0.1 - - [17/Apr/2023 11:37:06] \"OPTIONS /predict HTTP/1.1\" 200 -\n",
      "127.0.0.1 - - [17/Apr/2023 11:37:06] \"POST /predict HTTP/1.1\" 200 -\n",
      "127.0.0.1 - - [17/Apr/2023 11:37:10] \"OPTIONS /predict HTTP/1.1\" 200 -\n",
      "127.0.0.1 - - [17/Apr/2023 11:37:10] \"POST /predict HTTP/1.1\" 200 -\n",
      "127.0.0.1 - - [17/Apr/2023 11:38:44] \"OPTIONS /predict HTTP/1.1\" 200 -\n",
      "127.0.0.1 - - [17/Apr/2023 11:38:44] \"POST /predict HTTP/1.1\" 200 -\n",
      "127.0.0.1 - - [17/Apr/2023 11:38:50] \"OPTIONS /predict HTTP/1.1\" 200 -\n",
      "127.0.0.1 - - [17/Apr/2023 11:38:50] \"POST /predict HTTP/1.1\" 200 -\n",
      "127.0.0.1 - - [17/Apr/2023 11:40:56] \"OPTIONS /predict HTTP/1.1\" 200 -\n",
      "127.0.0.1 - - [17/Apr/2023 11:40:56] \"POST /predict HTTP/1.1\" 200 -\n",
      "127.0.0.1 - - [17/Apr/2023 11:50:29] \"OPTIONS /predict HTTP/1.1\" 200 -\n",
      "127.0.0.1 - - [17/Apr/2023 11:50:29] \"POST /predict HTTP/1.1\" 200 -\n",
      "127.0.0.1 - - [17/Apr/2023 11:50:41] \"OPTIONS /predict HTTP/1.1\" 200 -\n",
      "127.0.0.1 - - [17/Apr/2023 11:50:41] \"POST /predict HTTP/1.1\" 200 -\n",
      "127.0.0.1 - - [17/Apr/2023 11:58:40] \"OPTIONS /predict HTTP/1.1\" 200 -\n",
      "127.0.0.1 - - [17/Apr/2023 11:58:40] \"POST /predict HTTP/1.1\" 200 -\n",
      "127.0.0.1 - - [17/Apr/2023 11:58:56] \"OPTIONS /predict HTTP/1.1\" 200 -\n",
      "127.0.0.1 - - [17/Apr/2023 11:58:56] \"POST /predict HTTP/1.1\" 200 -\n",
      "127.0.0.1 - - [17/Apr/2023 11:59:23] \"OPTIONS /predict HTTP/1.1\" 200 -\n",
      "127.0.0.1 - - [17/Apr/2023 11:59:23] \"POST /predict HTTP/1.1\" 200 -\n",
      "127.0.0.1 - - [17/Apr/2023 11:59:29] \"OPTIONS /predict HTTP/1.1\" 200 -\n",
      "127.0.0.1 - - [17/Apr/2023 11:59:29] \"POST /predict HTTP/1.1\" 200 -\n",
      "127.0.0.1 - - [17/Apr/2023 12:16:53] \"OPTIONS /predict HTTP/1.1\" 200 -\n",
      "127.0.0.1 - - [17/Apr/2023 12:16:53] \"POST /predict HTTP/1.1\" 200 -\n",
      "127.0.0.1 - - [17/Apr/2023 12:17:12] \"OPTIONS /predict HTTP/1.1\" 200 -\n",
      "127.0.0.1 - - [17/Apr/2023 12:17:12] \"POST /predict HTTP/1.1\" 200 -\n",
      "127.0.0.1 - - [17/Apr/2023 12:17:20] \"OPTIONS /predict HTTP/1.1\" 200 -\n",
      "127.0.0.1 - - [17/Apr/2023 12:17:20] \"POST /predict HTTP/1.1\" 200 -\n",
      "127.0.0.1 - - [17/Apr/2023 12:17:41] \"OPTIONS /predict HTTP/1.1\" 200 -\n",
      "127.0.0.1 - - [17/Apr/2023 12:17:41] \"POST /predict HTTP/1.1\" 200 -\n",
      "127.0.0.1 - - [17/Apr/2023 12:18:13] \"OPTIONS /predict HTTP/1.1\" 200 -\n",
      "127.0.0.1 - - [17/Apr/2023 12:18:13] \"POST /predict HTTP/1.1\" 200 -\n"
     ]
    }
   ],
   "source": [
    "from ipynb.fs.full.chat import get_response\n",
    "\n",
    "from flask import Flask, render_template, request, jsonify\n",
    "\n",
    "#from chat import get_response\n",
    "\n",
    "from flask_cors import CORS \n",
    "\n",
    "\n",
    "app = Flask(__name__ , template_folder = 'template')\n",
    "CORS(app)\n",
    "\n",
    "@app.route(\"/\", methods=[\"GET\"])\n",
    "@app.get(\"/\") \n",
    "def index_get():\n",
    "    return render_template(\"base.html\")\n",
    "\n",
    "\n",
    "\n",
    "@app.post(\"/predict\")\n",
    "def predict():\n",
    "    text = request.get_json().get(\"message\")\n",
    "    response = get_response(text)\n",
    "    message = {\"answer\": response}\n",
    "    return jsonify(message)\n",
    "\n",
    "\n",
    "if __name__ == \"__main__\":\n",
    "    app.run(debug=True, use_reloader=False)\n",
    "    "
   ]
  },
  {
   "cell_type": "code",
   "execution_count": null,
   "id": "45964945",
   "metadata": {},
   "outputs": [],
   "source": [
    "from flask import Flask, request\n",
    "from markupsafe import escape\n",
    "\n",
    "app = Flask(__name__)\n",
    "\n",
    "@app.route('/')\n",
    "def hello():\n",
    "    name = request.args.get(\"name\", \"World\")\n",
    "    return f'Hello, {escape(name)}!'"
   ]
  },
  {
   "cell_type": "code",
   "execution_count": null,
   "id": "136d648d",
   "metadata": {},
   "outputs": [],
   "source": [
    "# save this as app.py\n",
    "from flask import Flask\n",
    "\n",
    "app = Flask(__name__)\n",
    "\n",
    "@app.route(\"/\")\n",
    "def hello():\n",
    "    return \"Hello, World!\"\n",
    "\n",
    "if __name__ == \"__main__\":\n",
    "    app.run()\n",
    "    "
   ]
  },
  {
   "cell_type": "code",
   "execution_count": null,
   "id": "6ba9a8a1",
   "metadata": {},
   "outputs": [],
   "source": [
    "# save this as app.py\n",
    "from flask import Flask\n",
    "\n",
    "app = Flask(__name__)\n",
    "\n",
    "@app.route(\"/\")\n",
    "def hello():\n",
    "    return \"Hello, World!\"\n",
    "\n",
    "if __name__ == \"__main__\":\n",
    "    app.run(debug=True ,port=8080,use_reloader=False)"
   ]
  },
  {
   "cell_type": "code",
   "execution_count": null,
   "id": "dcbc32b8",
   "metadata": {},
   "outputs": [],
   "source": []
  }
 ],
 "metadata": {
  "kernelspec": {
   "display_name": "Python 3 (ipykernel)",
   "language": "python",
   "name": "python3"
  },
  "language_info": {
   "codemirror_mode": {
    "name": "ipython",
    "version": 3
   },
   "file_extension": ".py",
   "mimetype": "text/x-python",
   "name": "python",
   "nbconvert_exporter": "python",
   "pygments_lexer": "ipython3",
   "version": "3.9.13"
  }
 },
 "nbformat": 4,
 "nbformat_minor": 5
}
