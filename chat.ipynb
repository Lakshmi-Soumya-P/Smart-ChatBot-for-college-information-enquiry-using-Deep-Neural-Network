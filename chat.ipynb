{
 "cells": [
  {
   "cell_type": "code",
   "execution_count": null,
   "id": "c014b8a5",
   "metadata": {},
   "outputs": [],
   "source": []
  },
  {
   "cell_type": "code",
   "execution_count": null,
   "id": "5299bfa3",
   "metadata": {},
   "outputs": [
    {
     "name": "stdout",
     "output_type": "stream",
     "text": [
      "GRIET: HI! I am GRIET bot.Let's chat! (type 'quit' to exit)\n",
      "You: hi\n",
      "GRIET: Hello, thanks for visiting\n"
     ]
    }
   ],
   "source": [
    "import random\n",
    "import json\n",
    "\n",
    "import torch\n",
    "import import_ipynb\n",
    "\n",
    "#from model import NeuralNet\n",
    "from ipynb.fs.full.model import NeuralNet\n",
    "from ipynb.fs.full.nltk_utils import bag_of_words, tokenize\n",
    "#from nltk_utils import bag_of_words, tokenize\n",
    "\n",
    "device = torch.device('cuda' if torch.cuda.is_available() else 'cpu')\n",
    "\n",
    "with open('intents (1).json', 'r') as json_data:\n",
    "    intents = json.load(json_data)\n",
    "\n",
    "FILE = \"data.pth\"\n",
    "data = torch.load(FILE)\n",
    "\n",
    "input_size = data[\"input_size\"]\n",
    "hidden_size = data[\"hidden_size\"]\n",
    "output_size = data[\"output_size\"]\n",
    "all_words = data[\"all_words\"]\n",
    "tags = data[\"tags\"]\n",
    "model_state = data[\"model_state\"]\n",
    "\n",
    "model = NeuralNet(input_size, hidden_size, output_size).to(device)\n",
    "model.load_state_dict(model_state)\n",
    "model.eval()\n",
    "\n",
    "\n",
    "bot_name = \"GRIET\"\n",
    "#print(\"GRIET :HI! I am your personal bot. I am here to answer queries on GRIET (type 'quit' to exit)\")\n",
    "\n",
    "def get_response(msg):\n",
    "    \n",
    "    sentence = tokenize(msg)\n",
    "    X = bag_of_words(sentence, all_words)\n",
    "    X = X.reshape(1, X.shape[0])\n",
    "    X = torch.from_numpy(X).to(device)\n",
    "\n",
    "    output = model(X)\n",
    "    _, predicted = torch.max(output, dim=1)\n",
    "\n",
    "    tag = tags[predicted.item()]\n",
    "\n",
    "    probs = torch.softmax(output, dim=1)\n",
    "    prob = probs[0][predicted.item()]\n",
    "    if prob.item() > 0.75:\n",
    "        for intent in intents['intents']:\n",
    "            if tag == intent[\"tag\"]:\n",
    "                return random.choice(intent['responses'])\n",
    "    \n",
    "    return \"I do not understand...\"\n",
    "\n",
    "\n",
    "if __name__ == \"__main__\":\n",
    "    print(\"GRIET: HI! I am GRIET bot.Let's chat! (type 'quit' to exit)\")\n",
    "    while True:\n",
    "        \n",
    "        sentence = input(\"You: \")\n",
    "        if sentence == \"quit\": \n",
    "            break\n",
    "\n",
    "        resp = get_response(sentence)\n",
    "        print(\"GRIET:\", resp)\n",
    "        bot_speaking(resp) \n",
    "        \n",
    "    \n",
    "    \n",
    "    \n",
    "    \n",
    "    \n",
    "    \n",
    "    \n",
    "    \n",
    "    "
   ]
  },
  {
   "cell_type": "code",
   "execution_count": 1,
   "id": "a4361223",
   "metadata": {},
   "outputs": [],
   "source": [
    "import speech_recognition as sr\n",
    "r = sr.Recognizer()\n",
    "import pyttsx3\n",
    "engine = pyttsx3.init()"
   ]
  },
  {
   "cell_type": "code",
   "execution_count": 2,
   "id": "9fe3bf5c",
   "metadata": {},
   "outputs": [],
   "source": [
    "def bot_speaking(message):\n",
    "    engine.say(message)\n",
    "    engine.runAndWait()\n",
    "    if engine._inLoop:\n",
    "        engine.endLoop()"
   ]
  },
  {
   "cell_type": "code",
   "execution_count": null,
   "id": "36f95230",
   "metadata": {},
   "outputs": [],
   "source": [
    "def get_input():\n",
    "    with sr.Microphone() as source:\n",
    "       #print(\"Say something!\")\n",
    "        bot_speaking(\"Hey mate say something\")\n",
    "        audio = r.listen(source, timeout = 0)\n",
    "       #print(\"perfect, Thanks\")\n",
    "        bot_speaking(\"Perfect, Thanks\")\n",
    "    try:\n",
    "        msg = r.recognize_google(audio)\n",
    "        print(\"TEXT: \"+msg);\n",
    "        bot_speaking(\"you said:\"+msg)\n",
    "        return msg\n",
    "    except:\n",
    "     # print(\"Dude it's not working:\")\n",
    "      bot_speaking(\"Sorry mate! It's not working\")\n",
    "      pass;"
   ]
  },
  {
   "cell_type": "code",
   "execution_count": null,
   "id": "bdb03a91",
   "metadata": {},
   "outputs": [],
   "source": []
  }
 ],
 "metadata": {
  "kernelspec": {
   "display_name": "Python 3 (ipykernel)",
   "language": "python",
   "name": "python3"
  },
  "language_info": {
   "codemirror_mode": {
    "name": "ipython",
    "version": 3
   },
   "file_extension": ".py",
   "mimetype": "text/x-python",
   "name": "python",
   "nbconvert_exporter": "python",
   "pygments_lexer": "ipython3",
   "version": "3.9.13"
  }
 },
 "nbformat": 4,
 "nbformat_minor": 5
}
